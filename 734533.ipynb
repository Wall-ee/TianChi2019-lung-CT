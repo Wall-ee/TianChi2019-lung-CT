{
 "cells": [
  {
   "cell_type": "code",
   "execution_count": null,
   "metadata": {
    "collapsed": false
   },
   "outputs": [],
   "source": [
    "# 查看当前挂载的数据集目录, 该目录下的变更重启环境后会自动还原\n",
    "# View dataset directory. This directory will be recovered automatically after resetting environment. \n",
    "!ls /home/aistudio/data"
   ]
  },
  {
   "cell_type": "code",
   "execution_count": null,
   "metadata": {
    "collapsed": false
   },
   "outputs": [],
   "source": [
    "# 查看工作区文件, 该目录下的变更将会持久保存. 请及时清理不必要的文件, 避免加载过慢.\n",
    "# View personal work directory. All changes under this directory will be kept even after reset. Please clean unnecessary files in time to speed up environment loading.\n",
    "!ls /home/aistudio/work"
   ]
  },
  {
   "cell_type": "code",
   "execution_count": null,
   "metadata": {
    "collapsed": false
   },
   "outputs": [],
   "source": [
    "# 如果需要进行持久化安装, 需要使用持久化路径, 如下方代码示例:\n",
    "# If a persistence installation is required, you need to use the persistence path as the following:\n",
    "#安装 simple itk\n",
    "!mkdir /home/aistudio/external-libraries\n",
    "!pip install SimpleITK -t /home/aistudio/external-libraries\n",
    "!pip install tqdm -t /home/aistudio/external-libraries\n",
    "!pip install scikit-image==0.17.2 --no-dependencies -t /home/aistudio/external-libraries\n",
    "!pip install tifffile>=2019.7.26 -t /home/aistudio/external-libraries\n",
    "!pip install lxml -t /home/aistudio/external-libraries\n",
    "! pip install paddlex -i https://mirror.baidu.com/pypi/simple\n",
    "# networkx>=2.0\n",
    "# pillow>=4.3.0,!=7.1.0,!=7.1.1\n",
    "# imageio>=2.3.0\n",
    "\n",
    "# PyWavelets>=1.1.1"
   ]
  },
  {
   "cell_type": "code",
   "execution_count": null,
   "metadata": {
    "collapsed": false
   },
   "outputs": [],
   "source": [
    "# 同时添加如下代码, 这样每次环境(kernel)启动的时候只要运行下方代码即可:\r\n",
    "# Also add the following code, so that every time the environment (kernel) starts, just run the following code:\r\n",
    "import sys\r\n",
    "sys.path.append('/home/aistudio/external-libraries')"
   ]
  },
  {
   "cell_type": "markdown",
   "metadata": {
    "collapsed": false
   },
   "source": [
    "请点击[此处](https://ai.baidu.com/docs#/AIStudio_Project_Notebook/a38e5576)查看本环境基本用法.  <br>\n",
    "Please click [here ](https://ai.baidu.com/docs#/AIStudio_Project_Notebook/a38e5576) for more detailed instructions. "
   ]
  },
  {
   "cell_type": "code",
   "execution_count": null,
   "metadata": {
    "collapsed": false
   },
   "outputs": [
    {
     "name": "stdout",
     "output_type": "stream",
     "text": [
      "['chestCT_round1_annotation.csv', 'chestCT_round1_testA.zip', 'chestCT_round1_train_part1.zip', 'chestCT_round1_train_part2.zip', 'chestCT_round1_train_part3.zip', 'chestCT_round1_train_part4.zip', 'chestCT_round1_train_part5.zip', '']\n",
      "unziping file...\n",
      "cmd in: unzip chestCT_round1_testA.zip > /dev/null\n",
      "cmd out:  \n",
      "deleting chestCT_round1_testA.zip successful\n",
      "unziping file...\n",
      "cmd in: unzip chestCT_round1_train_part1.zip > /dev/null\n",
      "cmd out:  \n",
      "deleting chestCT_round1_train_part1.zip successful\n",
      "unziping file...\n",
      "cmd in: unzip chestCT_round1_train_part2.zip > /dev/null\n",
      "cmd out:  \n",
      "deleting chestCT_round1_train_part2.zip successful\n",
      "unziping file...\n",
      "cmd in: unzip chestCT_round1_train_part3.zip > /dev/null\n",
      "cmd out:  \n",
      "deleting chestCT_round1_train_part3.zip successful\n",
      "unziping file...\n",
      "cmd in: unzip chestCT_round1_train_part4.zip > /dev/null\n",
      "cmd out:  \n",
      "deleting chestCT_round1_train_part4.zip successful\n",
      "unziping file...\n",
      "cmd in: unzip chestCT_round1_train_part5.zip > /dev/null\n",
      "cmd out:  \n",
      "deleting chestCT_round1_train_part5.zip successful\n"
     ]
    }
   ],
   "source": [
    "#解押文件操作\n",
    "import os\n",
    "os.chdir('/home/aistudio/data/data8689')\n",
    "import subprocess\n",
    "\n",
    "def excuteCommand(com):\n",
    "    ex = subprocess.Popen(com, stdout=subprocess.PIPE, shell=True)\n",
    "    out, err  = ex.communicate()\n",
    "    status = ex.wait()\n",
    "    print(\"cmd in:\", com)\n",
    "    print(\"cmd out: \", out.decode())\n",
    "    return out.decode()\n",
    "dataFileNameList = os.popen('ls').read().split('\\n')\n",
    "print (dataFileNameList)\n",
    "for dataFile in dataFileNameList:\n",
    "    if '.zip' in dataFile:\n",
    "        print('unziping file...')\n",
    "        unzipResult = excuteCommand('unzip ' + str(dataFile)+ ' > /dev/null')\n",
    "        # print(unzipResult)\n",
    "        try:\n",
    "            os.remove(str(dataFile))\n",
    "            print('deleting {} successful'.format(dataFile))\n",
    "        except Exception as e:\n",
    "            print('deleting {} with error {}'.format(dataFile,str(e)))\n",
    "# print(aa)"
   ]
  },
  {
   "cell_type": "code",
   "execution_count": null,
   "metadata": {
    "collapsed": false
   },
   "outputs": [
    {
     "name": "stdout",
     "output_type": "stream",
     "text": [
      "cmd in: \\cp -rf --link /home/aistudio/data/data8689/train_part1/* train/\n",
      "cmd out:  \n",
      "cmd in: \\cp -rf --link /home/aistudio/data/data8689/train_part2/* train/\n",
      "cmd out:  \n",
      "cmd in: \\cp -rf --link /home/aistudio/data/data8689/train_part4/* train/\n",
      "cmd out:  \n",
      "cmd in: \\cp -rf --link /home/aistudio/data/data8689/train_part5/* train/\n",
      "cmd out:  \n",
      "cmd in: \\cp -rf --link /home/aistudio/data/data8689/train_part3/* train/\n",
      "cmd out:  \n"
     ]
    }
   ],
   "source": [
    "#将所有train_part文件夹 放到 train目录里面\n",
    "#目标文件夹，此处为相对路径，也可以改为绝对路径\n",
    "os.chdir('/home/aistudio/work')\n",
    "determination = 'train/'\n",
    "if not os.path.exists(determination):\n",
    "    os.makedirs(determination)\n",
    "\n",
    "#源文件夹路径\n",
    "dataPath = r'/home/aistudio/data/data8689'\n",
    "folders= os.listdir(dataPath)\n",
    "for folder in folders:\n",
    "    if 'train_part' in folder:\n",
    "        # dir = path + '/' +  str(folder)\n",
    "        copyFileResult = excuteCommand('\\cp -rf --link {}/* {}/'.format((dataPath+ '/' +  str(folder)),'train'))\n",
    "        \n",
    "        # files = os.listdir(dir)\n",
    "        # for fileName in files:\n",
    "        #     source = dir + '\\\\' + str(file)\n",
    "        #     deter = determination + str(file)\n",
    "        #     shutil.copyfile(source, deter)"
   ]
  },
  {
   "cell_type": "code",
   "execution_count": null,
   "metadata": {
    "collapsed": false
   },
   "outputs": [],
   "source": [
    "#ct世界坐标转换\n",
    "# import sys\n",
    "# sys.path.append('/home/aistudio/external-libraries')\n",
    "# import numpy as np\n",
    "# import pandas as pd\n",
    "# import SimpleITK as sitk\n",
    "\n",
    "# pd.set_option('display.width', 120)\n",
    "\n",
    "# annotation_file = '/home/aistudio/data/data8689/chestCT_round1_annotation.csv'\n",
    "# df = pd.read_csv(annotation_file, dtype={'seriesuid': int, 'label': int})\n",
    "# # print(df.head())\n",
    "# #遍历并转换坐标\n",
    "# for uid in df['seriesuid'].unique():\n",
    "#     idx = df['seriesuid'] == uid\n",
    "#     mhd_file = './train/{}.mhd'.format(uid)\n",
    "#     itk_image = sitk.ReadImage(mhd_file)\n",
    "#     origin = np.array(itk_image.GetOrigin())\n",
    "#     spacing = np.array(itk_image.GetSpacing())\n",
    "#     df.loc[idx, ['coordX', 'coordY', 'coordZ']] = ((df.loc[idx, ['coordX', 'coordY', 'coordZ']] - origin) / spacing).round()\n",
    "#     df.loc[idx, ['diameterX', 'diameterY', 'diameterZ']] = (df.loc[idx, ['diameterX', 'diameterY', 'diameterZ']] / spacing).round()\n",
    "\n",
    "# df = df.astype('int64')\n",
    "# print(df.head(10))\n",
    "# df.to_csv('./annotation_voxel.csv', index=False)"
   ]
  },
  {
   "cell_type": "code",
   "execution_count": 6,
   "metadata": {
    "collapsed": false
   },
   "outputs": [],
   "source": [
    "#生成标记图片\n",
    "import numpy as np\n",
    "import pandas as pd\n",
    "import os\n",
    "import sys\n",
    "sys.path.append('/home/aistudio/external-libraries')\n",
    "import SimpleITK as sitk\n",
    "from work import lt_annotation\n",
    "os.chdir('/home/aistudio/work')\n",
    "\n",
    "sets = ['./train']\n",
    "data_path = '/home/aistudio/work'\n",
    "png_image_path = './image_png'\n",
    "anns_path = '/home/aistudio/data/data8689/chestCT_round1_annotation.csv'\n",
    "\n",
    "lt_annotation.DoMain(sets,data_path,png_image_path,anns_path)"
   ]
  },
  {
   "cell_type": "code",
   "execution_count": 8,
   "metadata": {
    "collapsed": false
   },
   "outputs": [],
   "source": [
    "#生成全部png 图片 先生成标记 然后反向生成图片 省地方\n",
    "import numpy as np\n",
    "import pandas as pd\n",
    "import os\n",
    "import sys\n",
    "sys.path.append('/home/aistudio/external-libraries')\n",
    "import SimpleITK as sitk\n",
    "from work import generate_the_image\n",
    "os.chdir('/home/aistudio/work')\n",
    "file_paths = ['./train']\n",
    "save_path = './image_png'\n",
    "markedFileName = 'train.txt'\n",
    "for file_path in file_paths:\n",
    "    files = generate_the_image.get_file_name(file_path)\n",
    "    images = generate_the_image.get_all_image(file_path, files, save_path, save_image=True,trainFileName=markedFileName)"
   ]
  },
  {
   "cell_type": "code",
   "execution_count": null,
   "metadata": {
    "collapsed": false
   },
   "outputs": [],
   "source": [
    "#标注名字\n",
    "label_mapper = {\n",
    "    1: 'nodule',\n",
    "    5: 'stripe',\n",
    "    31: 'artery',\n",
    "    32: 'lymph',\n",
    "}"
   ]
  },
  {
   "cell_type": "code",
   "execution_count": 9,
   "metadata": {
    "collapsed": false
   },
   "outputs": [],
   "source": [
    "\n",
    "# 设置使用0号GPU卡（如无GPU，执行此代码后仍然会使用CPU训练模型）\n",
    "import matplotlib\n",
    "matplotlib.use('Agg') \n",
    "import os\n",
    "os.environ['CUDA_VISIBLE_DEVICES'] = '0'\n",
    "import paddlex as pdx"
   ]
  },
  {
   "cell_type": "code",
   "execution_count": 12,
   "metadata": {
    "collapsed": false
   },
   "outputs": [
    {
     "name": "stdout",
     "output_type": "stream",
     "text": [
      "100%|████████████████████████████████████| 17167/17167 [00:43<00:00, 397.75it/s]\n"
     ]
    }
   ],
   "source": [
    "#转换yolo 及 voc 格式 参考 https://blog.csdn.net/qq_29762941/article/details/80797790\n",
    "#生成VOCxml文件\n",
    "os.chdir('/home/aistudio/work')\n",
    "determination = 'Annotations/'\n",
    "if not os.path.exists(determination):\n",
    "    os.makedirs(determination)\n",
    "!cd /home/aistudio/work\n",
    "!python yolotovoc.py"
   ]
  },
  {
   "cell_type": "code",
   "execution_count": 19,
   "metadata": {
    "collapsed": false
   },
   "outputs": [],
   "source": [
    "#图像增强\n",
    "from paddlex.det import transforms\n",
    "# train_transforms = transforms.Compose([\n",
    "#     transforms.RandomHorizontalFlip(),\n",
    "#     transforms.Normalize(),\n",
    "#     transforms.ResizeByShort(short_size=800, max_size=1333),\n",
    "#     transforms.Padding(coarsest_stride=32)\n",
    "# ])\n",
    "\n",
    "# eval_transforms = transforms.Compose([\n",
    "#     transforms.Normalize(),\n",
    "#     transforms.ResizeByShort(short_size=800, max_size=1333),\n",
    "#     transforms.Padding(coarsest_stride=32),\n",
    "# ])\n",
    "train_transforms = transforms.Compose([\n",
    "    transforms.Normalize()\n",
    "])\n",
    "\n",
    "eval_transforms = transforms.Compose([\n",
    "    transforms.Normalize()\n",
    "])"
   ]
  },
  {
   "cell_type": "code",
   "execution_count": 13,
   "metadata": {
    "collapsed": false
   },
   "outputs": [
    {
     "name": "stdout",
     "output_type": "stream",
     "text": [
      "2020-08-17 18:00:47 [INFO]\tStarting to read file list from dataset...\n",
      "2020-08-17 18:01:04 [INFO]\t17167 samples in file ./train_list_voc.txt\n",
      "creating index...\n",
      "index created!\n"
     ]
    }
   ],
   "source": [
    "os.chdir('/home/aistudio/work')\n",
    "train_dataset = pdx.datasets.VOCDetection(\n",
    "    data_dir='/home/aistudio/work/',\n",
    "    file_list='./train_list_voc.txt',\n",
    "    label_list='./labels.txt',\n",
    "    transforms=train_transforms,\n",
    "    shuffle=True)\n",
    "# eval_dataset = pdx.datasets.VOCDetection(\n",
    "#     data_dir='insect_det',\n",
    "#     file_list='insect_det/val_list.txt',\n",
    "#     label_list='insect_det/labels.txt',\n",
    "#     transforms=eval_transforms)"
   ]
  },
  {
   "cell_type": "code",
   "execution_count": null,
   "metadata": {
    "collapsed": false
   },
   "outputs": [],
   "source": [
    "\n",
    "# 如果要通过VisualDL查看日志页面，下没按这行代码需要执行\n",
    "# aistudio上需要将日志输出到/home/aistudio/log目录下才可以查看VisuaDL界面\n",
    "! rm -rf ~/log & rm -rf output/faster_rcnn_r50_fpn\n",
    "! mkdir -p output/faster_rcnn_r50_fpn/vdl_log\n",
    "! ln -s output/faster_rcnn_r50_fpn/vdl_log ~/log\n",
    "\n",
    "num_classes = len(train_dataset.labels) + 1\n",
    "model = pdx.det.FasterRCNN(num_classes=num_classes)\n",
    "model.train(\n",
    "    num_epochs=12,\n",
    "    train_dataset=train_dataset,\n",
    "    train_batch_size=2,\n",
    "    # eval_dataset=eval_dataset, \n",
    "    learning_rate=0.0025,\n",
    "    lr_decay_epochs=[8, 11],\n",
    "    save_interval_epochs=1,\n",
    "    save_dir='output/faster_rcnn_r50_fpn',\n",
    "    use_vdl=True)"
   ]
  },
  {
   "cell_type": "code",
   "execution_count": 18,
   "metadata": {
    "collapsed": false
   },
   "outputs": [
    {
     "name": "stdout",
     "output_type": "stream",
     "text": [
      "2020-08-17 22:45:38 [INFO]\tThe visualized result is saved as ./output/mask_rcnn_r50_fpn/frcnn_predict/visualize_318818_000.png\n"
     ]
    }
   ],
   "source": [
    "image_name = './image_png/318818_000.png'\n",
    "#如未在训练时定义eval_dataset，那在调用预测predict接口时，用户需要再重新定义test_transforms传入给predict接口\n",
    "result = model.predict(image_name,transforms=eval_transforms)\n",
    "pdx.det.visualize(image_name, result, threshold=0.5,save_dir='./output/mask_rcnn_r50_fpn/frcnn_predict')"
   ]
  }
 ],
 "metadata": {
  "kernelspec": {
   "display_name": "PaddlePaddle 1.8.0 (Python 3.5)",
   "language": "python",
   "name": "py35-paddle1.2.0"
  },
  "language_info": {
   "codemirror_mode": {
    "name": "ipython",
    "version": 3
   },
   "file_extension": ".py",
   "mimetype": "text/x-python",
   "name": "python",
   "nbconvert_exporter": "python",
   "pygments_lexer": "ipython3",
   "version": "3.7.4"
  }
 },
 "nbformat": 4,
 "nbformat_minor": 1
}
